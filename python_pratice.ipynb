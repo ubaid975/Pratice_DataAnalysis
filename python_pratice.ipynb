{
 "cells": [
  {
   "cell_type": "code",
   "execution_count": 1,
   "id": "20f93c81-6245-4f2b-97b5-84ff56289fea",
   "metadata": {},
   "outputs": [
    {
     "name": "stdout",
     "output_type": "stream",
     "text": [
      "5\n"
     ]
    }
   ],
   "source": [
    "a=\"ubaid\"\n",
    "lenght=len(a)\n",
    "print(lenght)"
   ]
  },
  {
   "cell_type": "code",
   "execution_count": 2,
   "id": "b86a0d33-6899-4f21-ae40-e9f0dd801d67",
   "metadata": {},
   "outputs": [
    {
     "ename": "SyntaxError",
     "evalue": "invalid syntax (3827591218.py, line 2)",
     "output_type": "error",
     "traceback": [
      "\u001b[1;36m  Cell \u001b[1;32mIn[2], line 2\u001b[1;36m\u001b[0m\n\u001b[1;33m    b=\u001b[0m\n\u001b[1;37m      ^\u001b[0m\n\u001b[1;31mSyntaxError\u001b[0m\u001b[1;31m:\u001b[0m invalid syntax\n"
     ]
    }
   ],
   "source": [
    "a='ubaid'\n",
    "b="
   ]
  },
  {
   "cell_type": "code",
   "execution_count": null,
   "id": "c094d092-eb98-4bf9-8e79-8406c1080e55",
   "metadata": {},
   "outputs": [],
   "source": [
    "def zip_code(zip_code):\n",
    "    if zip_code.isdigit and len(zip_code)==5:\n",
    "        return True\n",
    "       \n",
    "            \n",
    "            \n",
    "    else:\n",
    "        return False\n",
    "        "
   ]
  },
  {
   "cell_type": "code",
   "execution_count": null,
   "id": "c0bf654e-a2c7-44cd-8c6c-ce9b249126e8",
   "metadata": {},
   "outputs": [],
   "source": [
    "zip_code('122333')"
   ]
  },
  {
   "cell_type": "code",
   "execution_count": null,
   "id": "cfb08ca2-8c42-417d-9602-9ab2acfab15c",
   "metadata": {},
   "outputs": [],
   "source": [
    "a=\"1111x\""
   ]
  },
  {
   "cell_type": "code",
   "execution_count": null,
   "id": "5df90715-863a-48ac-8b0d-6c6a27acda1d",
   "metadata": {},
   "outputs": [],
   "source": [
    "a.isalpha()"
   ]
  },
  {
   "cell_type": "code",
   "execution_count": null,
   "id": "09c8cfbd-69df-4325-b69f-69d60aedaf2e",
   "metadata": {},
   "outputs": [],
   "source": [
    "def search(list,keyword):\n",
    "    all=list.split(\",\")\n",
    "    \n",
    "        \n",
    "\n",
    "    "
   ]
  },
  {
   "cell_type": "code",
   "execution_count": null,
   "id": "c8c1cc91-e3e7-4a21-bb31-1278d71af219",
   "metadata": {},
   "outputs": [],
   "source": [
    "search(['ubaid','ali'],'ubaid')"
   ]
  },
  {
   "cell_type": "code",
   "execution_count": null,
   "id": "13df0692-914d-4229-9b73-4606d8128e67",
   "metadata": {},
   "outputs": [],
   "source": [
    "\n",
    "txt = \"apple banana\"\n",
    "x = txt.rstrip()\n",
    "print(\"of all fruits\", x, \"is my favorite\")"
   ]
  },
  {
   "cell_type": "code",
   "execution_count": null,
   "id": "b853c19b-a5d5-4bbb-be56-c8dd39db9313",
   "metadata": {},
   "outputs": [],
   "source": [
    "text=input(\"enter the text here\").title()\n",
    "new=\"\"\n",
    "for char in text:\n",
    "    if char.isupper():\n",
    "        new+=char+\".\"\n",
    "print(new)"
   ]
  },
  {
   "cell_type": "code",
   "execution_count": null,
   "id": "61a34c08-48bd-4756-a93e-6bfccc44cb77",
   "metadata": {},
   "outputs": [],
   "source": [
    "a=input(\"enter the text\").lower()\n",
    "count=0\n",
    "for i in a:\n",
    "    vowels=['a','e','i','o','u']\n",
    "    if i in vowels:\n",
    "        count+=1\n",
    "print(f\"number of vowls are {count}\")"
   ]
  },
  {
   "cell_type": "code",
   "execution_count": null,
   "id": "1b2fb345-70de-457a-ba22-dbccc5cf9098",
   "metadata": {},
   "outputs": [],
   "source": [
    "a=input(\"enter oue text\")\n",
    "new=\"\"\n",
    "new+=a[-1]+a[1:-1]+a[0]\n",
    "print(new)"
   ]
  },
  {
   "cell_type": "code",
   "execution_count": null,
   "id": "764777e8-0f5e-4e84-be6f-709c306b7b0e",
   "metadata": {},
   "outputs": [],
   "source": [
    "open(\"today.ipynb\",\"r\")"
   ]
  },
  {
   "cell_type": "code",
   "execution_count": null,
   "id": "e761423e-a96f-4eb4-aeb4-d0086e8ad34a",
   "metadata": {},
   "outputs": [],
   "source": [
    "a"
   ]
  },
  {
   "cell_type": "code",
   "execution_count": null,
   "id": "87783cc1-c33f-4998-a193-c0519f597af9",
   "metadata": {},
   "outputs": [],
   "source": [
    "b"
   ]
  },
  {
   "cell_type": "code",
   "execution_count": null,
   "id": "811e8eca-7082-48b4-8c2f-9ecd0669c917",
   "metadata": {},
   "outputs": [],
   "source": []
  },
  {
   "cell_type": "code",
   "execution_count": null,
   "id": "eeeed1c1-290c-4c3e-a515-177fe3dc8126",
   "metadata": {},
   "outputs": [],
   "source": [
    "names={\"id\":[\"1\",\"2\",\"4\",\"3\",\"3\",\"3\",\"3\"],\n",
    "      \"name\":[\"ubaid\",\"imran\",\"ali\",\"hassan\",\"amir\",\"ahmed\",\"aniq\"]}"
   ]
  },
  {
   "cell_type": "code",
   "execution_count": null,
   "id": "1b1f5955-4592-4ca6-a4d9-31107f800134",
   "metadata": {},
   "outputs": [],
   "source": [
    "names"
   ]
  },
  {
   "cell_type": "code",
   "execution_count": null,
   "id": "e9f73b71-b0ea-4dd6-a3de-a6dcd85e151f",
   "metadata": {},
   "outputs": [],
   "source": [
    "for i in names['id']:\n",
    "    names['id']=i"
   ]
  },
  {
   "cell_type": "code",
   "execution_count": null,
   "id": "014af260-ef08-4456-98f2-5f4c09c0fdc8",
   "metadata": {},
   "outputs": [],
   "source": [
    "names"
   ]
  },
  {
   "cell_type": "code",
   "execution_count": null,
   "id": "4314dc85-cbcb-4b3a-8fb6-2a9fd7ecb4e3",
   "metadata": {},
   "outputs": [],
   "source": [
    "names['id']=\"2\",\"4\",\"5\",\"6\",'8'"
   ]
  },
  {
   "cell_type": "code",
   "execution_count": null,
   "id": "6b20d707-e751-4de9-bf0e-a0f891cd081d",
   "metadata": {},
   "outputs": [],
   "source": [
    "names"
   ]
  },
  {
   "cell_type": "code",
   "execution_count": null,
   "id": "2eabfbfd-bb94-4aae-a1ac-a342343fa43d",
   "metadata": {},
   "outputs": [],
   "source": [
    "b={\"id\":101,\"name\":\"ubaid\"}"
   ]
  },
  {
   "cell_type": "code",
   "execution_count": null,
   "id": "89905614-70a5-479f-87de-8f2c9bd77cc0",
   "metadata": {},
   "outputs": [],
   "source": [
    "b"
   ]
  },
  {
   "cell_type": "code",
   "execution_count": null,
   "id": "0e5db51e-8a3b-4334-8292-bd79fbbe1d2f",
   "metadata": {},
   "outputs": [],
   "source": [
    "b[\"father_name\"]=\"imran\""
   ]
  },
  {
   "cell_type": "code",
   "execution_count": null,
   "id": "248ffffb-a8e9-4014-b6b7-5216483eb07b",
   "metadata": {},
   "outputs": [],
   "source": [
    "b"
   ]
  },
  {
   "cell_type": "code",
   "execution_count": null,
   "id": "2ede32a8-3280-40d4-9fc8-09f6a4429a3b",
   "metadata": {},
   "outputs": [],
   "source": [
    "for a,i in b.items():\n",
    "    print(a,i)"
   ]
  },
  {
   "cell_type": "code",
   "execution_count": null,
   "id": "f52eb507-5c01-4228-922f-27170b5ac198",
   "metadata": {},
   "outputs": [],
   "source": [
    "b.keys()"
   ]
  },
  {
   "cell_type": "code",
   "execution_count": null,
   "id": "f0515bcf-3376-41c2-8f74-9a219d3e6beb",
   "metadata": {},
   "outputs": [],
   "source": [
    "b.pop('father_name')"
   ]
  },
  {
   "cell_type": "code",
   "execution_count": null,
   "id": "0000de39-741e-4583-be1c-2b4614c41b86",
   "metadata": {},
   "outputs": [],
   "source": [
    "b"
   ]
  },
  {
   "cell_type": "code",
   "execution_count": null,
   "id": "590a20b2-320b-422a-9749-ee57ce898bc0",
   "metadata": {},
   "outputs": [],
   "source": [
    "b.values()"
   ]
  },
  {
   "cell_type": "code",
   "execution_count": null,
   "id": "146fa4ed-1216-4669-a3a2-d967cde3cfc3",
   "metadata": {},
   "outputs": [],
   "source": [
    "c=(\"ubaid\",\"imran\",\"ali\",\"ubaid\")"
   ]
  },
  {
   "cell_type": "code",
   "execution_count": null,
   "id": "df81c973-e69e-46f4-adf2-8148240253bf",
   "metadata": {},
   "outputs": [],
   "source": [
    "type(c)"
   ]
  },
  {
   "cell_type": "code",
   "execution_count": null,
   "id": "c2a3c046-1916-4502-8a84-3e9ee42f9744",
   "metadata": {},
   "outputs": [],
   "source": [
    "c.count(\"ubaid\")"
   ]
  },
  {
   "cell_type": "code",
   "execution_count": null,
   "id": "a7a97929-53e0-4def-b489-58f1a2a0c271",
   "metadata": {},
   "outputs": [],
   "source": [
    "c.index(\"ubaid\")"
   ]
  },
  {
   "cell_type": "code",
   "execution_count": null,
   "id": "424c62f8-fbaa-4ee7-b17e-0723cd557bec",
   "metadata": {},
   "outputs": [],
   "source": [
    "c+=\"ali\""
   ]
  },
  {
   "cell_type": "code",
   "execution_count": null,
   "id": "e78ae8a5-9bf7-463d-9202-bb7dd85f30ac",
   "metadata": {},
   "outputs": [],
   "source": [
    "d={\"ubaid\",\"ali\",\"hina\",\"hussain\"}"
   ]
  },
  {
   "cell_type": "code",
   "execution_count": null,
   "id": "db2e6547-ab57-4c10-8fb6-3d493aa8f334",
   "metadata": {},
   "outputs": [],
   "source": [
    "type(d)"
   ]
  },
  {
   "cell_type": "code",
   "execution_count": null,
   "id": "11422fa2-cd37-465f-9791-2182fa99169c",
   "metadata": {},
   "outputs": [],
   "source": [
    "d.add(\"imran\")"
   ]
  },
  {
   "cell_type": "code",
   "execution_count": null,
   "id": "1aae51b3-4f9d-4253-9e3d-c7073dd64094",
   "metadata": {},
   "outputs": [],
   "source": [
    "d\n"
   ]
  },
  {
   "cell_type": "code",
   "execution_count": null,
   "id": "cc8fe604-1283-43e9-9f6f-03ab1ac8d2f4",
   "metadata": {},
   "outputs": [],
   "source": [
    "d.difference()"
   ]
  },
  {
   "cell_type": "code",
   "execution_count": null,
   "id": "5e26bec1-e21f-4bba-befe-debcb668d349",
   "metadata": {},
   "outputs": [],
   "source": [
    "d.difference_update()"
   ]
  },
  {
   "cell_type": "code",
   "execution_count": null,
   "id": "b45abe32-aa98-4e89-8ce7-ac7aabe4c493",
   "metadata": {},
   "outputs": [],
   "source": [
    "d\n"
   ]
  },
  {
   "cell_type": "code",
   "execution_count": null,
   "id": "85a17eea-4e57-49cc-ab5b-0c359323f38a",
   "metadata": {},
   "outputs": [],
   "source": [
    "d.difference_update(\"ubaid\")"
   ]
  },
  {
   "cell_type": "code",
   "execution_count": null,
   "id": "b2c3bca4-4d01-47ae-a72c-c8b876c653f1",
   "metadata": {},
   "outputs": [],
   "source": [
    "d"
   ]
  },
  {
   "cell_type": "code",
   "execution_count": null,
   "id": "b269b881-3a6a-4eaf-8a14-b4e37a7894df",
   "metadata": {},
   "outputs": [],
   "source": [
    "d.difference_update(\"anaya\")"
   ]
  },
  {
   "cell_type": "code",
   "execution_count": null,
   "id": "be293dcf-e07d-4c07-b54c-19ec64badfd6",
   "metadata": {},
   "outputs": [],
   "source": [
    "d"
   ]
  },
  {
   "cell_type": "code",
   "execution_count": null,
   "id": "aa27157a-1f97-45f9-8291-26f068d51e7d",
   "metadata": {},
   "outputs": [],
   "source": [
    "d.intersection()"
   ]
  },
  {
   "cell_type": "code",
   "execution_count": null,
   "id": "cf8d034c-af48-4f80-96d6-d54269363aa3",
   "metadata": {},
   "outputs": [],
   "source": [
    "d"
   ]
  },
  {
   "cell_type": "code",
   "execution_count": null,
   "id": "767cc99c-c353-4eb3-9218-e2e9e88ab0f5",
   "metadata": {},
   "outputs": [],
   "source": [
    "d.isdisjoint(\"ali \")"
   ]
  },
  {
   "cell_type": "code",
   "execution_count": null,
   "id": "0f514c8b-4dde-4898-b519-a32bcac8b484",
   "metadata": {},
   "outputs": [],
   "source": [
    "d.update(\"baber\")"
   ]
  },
  {
   "cell_type": "code",
   "execution_count": null,
   "id": "d2435ce8-d011-4111-9017-c2e03aa62721",
   "metadata": {},
   "outputs": [],
   "source": [
    "d"
   ]
  },
  {
   "cell_type": "code",
   "execution_count": null,
   "id": "72d4c3c9-6be6-496b-9cbd-2cd124518bd3",
   "metadata": {},
   "outputs": [],
   "source": [
    "d.update(\"maria\")"
   ]
  },
  {
   "cell_type": "code",
   "execution_count": null,
   "id": "9b60345c-6278-4593-ae1e-2610968962a4",
   "metadata": {},
   "outputs": [],
   "source": [
    "d"
   ]
  },
  {
   "cell_type": "code",
   "execution_count": null,
   "id": "95357f61-00da-4e73-84dc-39163d26fd4e",
   "metadata": {},
   "outputs": [],
   "source": [
    "d"
   ]
  },
  {
   "cell_type": "code",
   "execution_count": null,
   "id": "21f606bb-c53d-453b-9d6e-66aa98457ffc",
   "metadata": {},
   "outputs": [
    {
     "name": "stdout",
     "output_type": "stream",
     "text": [
      "\n",
      "    1: create count\n",
      "    2: login account\n",
      "    \n"
     ]
    },
    {
     "name": "stdin",
     "output_type": "stream",
     "text": [
      "enter the number 1\n",
      "enter your name maria\n",
      "enter your father name imran\n",
      "enter the number 0321640548\n",
      "enter your email address maria@gmail.com\n",
      "enter your password maria975\n"
     ]
    },
    {
     "name": "stdout",
     "output_type": "stream",
     "text": [
      "user succesfully register\n",
      "login\n"
     ]
    },
    {
     "name": "stdin",
     "output_type": "stream",
     "text": [
      "enter the email maria@gmail.com\n",
      "enter the password maria123\n"
     ]
    },
    {
     "name": "stdout",
     "output_type": "stream",
     "text": [
      "please register now\n",
      "\n",
      "    1: create count\n",
      "    2: login account\n",
      "    \n"
     ]
    }
   ],
   "source": [
    "user={\"name\":\"ubaid\",\"fname\":\"imran\",\"number\":\"03065729429\",\"email\":\"ubaidmemon530@gmail.com\",\"password\":\"ubaid123\"}\n",
    "while True:\n",
    "    print(\"\"\"\n",
    "    1: create count\n",
    "    2: login account\n",
    "    \"\"\")\n",
    "    \n",
    "    a=int(input(\"enter the number\"))\n",
    "    if a==1:\n",
    "        name=input(\"enter your name\")\n",
    "        fname=input(\"enter your father name\")\n",
    "        number=input(\"enter the number\")\n",
    "        email=input(\"enter your email address\")\n",
    "        password=input(\"enter your password\")\n",
    "        user['name']=name\n",
    "        user['fname']=fname\n",
    "        user['number']=number\n",
    "        user['email']=email\n",
    "        user['password']=password\n",
    "        print(\"user succesfully register\")\n",
    "        print(\"login\")\n",
    "        \n",
    "        lemail=input('enter the email')\n",
    "        lpassword=input(\"enter the password\")\n",
    "        if user['email'] in lemail and user[\"password\"] in lpassword:\n",
    "                print(\"you are succesfully login\")\n",
    "                print(f\"\"\"name:-\"{user['name']}\n",
    "                fname:-{user['fname']}\n",
    "                phone:-{user['number']})\n",
    "                email:-{user['email']}\"\"\")\n",
    "                break\n",
    "        else:\n",
    "            print(\"please register now\")\n",
    "    else:\n",
    "        print(\"not exists\")\n",
    "        \n",
    "        \n",
    "        \n",
    "        \n",
    "        \n",
    "    \n",
    "    \n",
    "    \n",
    "    \n",
    "        \n",
    "    \n",
    "    "
   ]
  },
  {
   "cell_type": "code",
   "execution_count": 1,
   "id": "02a2eb1c-645d-49e7-b088-497bf7173b79",
   "metadata": {},
   "outputs": [
    {
     "ename": "NameError",
     "evalue": "name 'user' is not defined",
     "output_type": "error",
     "traceback": [
      "\u001b[1;31m---------------------------------------------------------------------------\u001b[0m",
      "\u001b[1;31mNameError\u001b[0m                                 Traceback (most recent call last)",
      "Cell \u001b[1;32mIn[1], line 1\u001b[0m\n\u001b[1;32m----> 1\u001b[0m user\n",
      "\u001b[1;31mNameError\u001b[0m: name 'user' is not defined"
     ]
    }
   ],
   "source": [
    "user"
   ]
  },
  {
   "cell_type": "code",
   "execution_count": 3,
   "id": "4a577212-0158-493c-a389-213de347c60d",
   "metadata": {},
   "outputs": [],
   "source": [
    "a={\"name\":\"ubaid\",\"fname\":\"imran\"}"
   ]
  },
  {
   "cell_type": "code",
   "execution_count": 25,
   "id": "68899cfa-58cf-49ae-8975-874ea248f50d",
   "metadata": {},
   "outputs": [
    {
     "name": "stdin",
     "output_type": "stream",
     "text": [
      "enter the number 4\n"
     ]
    },
    {
     "name": "stdout",
     "output_type": "stream",
     "text": [
      "x is not in 8\n"
     ]
    }
   ],
   "source": [
    "x=int(input(\"enter the number\"))\n",
    "match x:\n",
    "    case 8:\n",
    "        \n",
    "        print(\"value is 8\")\n",
    "    case _ if x!=8:\n",
    "        print(\"x is not in 8\")"
   ]
  },
  {
   "cell_type": "code",
   "execution_count": 31,
   "id": "6083b38b-51f1-4918-9dd3-7b2ac69091bd",
   "metadata": {},
   "outputs": [
    {
     "name": "stdout",
     "output_type": "stream",
     "text": [
      "[76, 887]\n"
     ]
    }
   ],
   "source": [
    "x=[35,666,887,76]\n",
    "print(x[-1:-3:-1])"
   ]
  },
  {
   "cell_type": "code",
   "execution_count": 32,
   "id": "c9c2299a-1f57-4b93-86cc-59b6b1b92c7a",
   "metadata": {},
   "outputs": [],
   "source": [
    "import time"
   ]
  },
  {
   "cell_type": "code",
   "execution_count": 50,
   "id": "ecd48cda-3ec1-409b-a1c6-4b4d53a1fad1",
   "metadata": {},
   "outputs": [
    {
     "ename": "AttributeError",
     "evalue": "'str' object has no attribute 'strftime'",
     "output_type": "error",
     "traceback": [
      "\u001b[1;31m---------------------------------------------------------------------------\u001b[0m",
      "\u001b[1;31mAttributeError\u001b[0m                            Traceback (most recent call last)",
      "Cell \u001b[1;32mIn[50], line 1\u001b[0m\n\u001b[1;32m----> 1\u001b[0m t\u001b[38;5;241m=\u001b[39mtime\u001b[38;5;241m.\u001b[39mstrftime(\u001b[38;5;124m\"\u001b[39m\u001b[38;5;124m%\u001b[39m\u001b[38;5;124mh:\u001b[39m\u001b[38;5;124m%\u001b[39m\u001b[38;5;124mm:\u001b[39m\u001b[38;5;132;01m%s\u001b[39;00m\u001b[38;5;124m\"\u001b[39m)\n",
      "\u001b[1;31mAttributeError\u001b[0m: 'str' object has no attribute 'strftime'"
     ]
    }
   ],
   "source": [
    "t=time.strftime(\"%h:%m:%s\")"
   ]
  },
  {
   "cell_type": "code",
   "execution_count": 52,
   "id": "a905318e-6cfa-47d8-8f71-91d0f0155854",
   "metadata": {},
   "outputs": [],
   "source": [
    "import time\n"
   ]
  },
  {
   "cell_type": "code",
   "execution_count": 58,
   "id": "697b5e56-c304-454a-a296-8708647222fb",
   "metadata": {},
   "outputs": [
    {
     "ename": "AttributeError",
     "evalue": "'str' object has no attribute 'strftime'",
     "output_type": "error",
     "traceback": [
      "\u001b[1;31m---------------------------------------------------------------------------\u001b[0m",
      "\u001b[1;31mAttributeError\u001b[0m                            Traceback (most recent call last)",
      "Cell \u001b[1;32mIn[58], line 1\u001b[0m\n\u001b[1;32m----> 1\u001b[0m time\u001b[38;5;241m=\u001b[39mtime\u001b[38;5;241m.\u001b[39mstrftime(\u001b[38;5;124m\"\u001b[39m\u001b[38;5;124m%\u001b[39m\u001b[38;5;124mH\u001b[39m\u001b[38;5;124m\"\u001b[39m)\n",
      "\u001b[1;31mAttributeError\u001b[0m: 'str' object has no attribute 'strftime'"
     ]
    }
   ],
   "source": [
    "time=time.strftime(\"%H\")\n"
   ]
  },
  {
   "cell_type": "code",
   "execution_count": 59,
   "id": "f9437c30-a47b-46c4-a25a-78e0eb0ac8b4",
   "metadata": {},
   "outputs": [
    {
     "data": {
      "text/plain": [
       "'May'"
      ]
     },
     "execution_count": 59,
     "metadata": {},
     "output_type": "execute_result"
    }
   ],
   "source": [
    "time"
   ]
  },
  {
   "cell_type": "code",
   "execution_count": 13,
   "id": "557b86b4-d20a-4730-a1f8-6026fa618576",
   "metadata": {},
   "outputs": [],
   "source": [
    "import time \n",
    "hour=(time.strftime((\"%H:%M:%S\")))"
   ]
  },
  {
   "cell_type": "code",
   "execution_count": 17,
   "id": "c6d0c05b-f5b0-455a-8688-66561abf8dc1",
   "metadata": {},
   "outputs": [],
   "source": [
    "hour1=int(time.strftime(\"%H\"))"
   ]
  },
  {
   "cell_type": "code",
   "execution_count": 19,
   "id": "f7395d0e-1148-4998-911c-77542277f52c",
   "metadata": {},
   "outputs": [
    {
     "name": "stdout",
     "output_type": "stream",
     "text": [
      "10\n",
      "good morning\n"
     ]
    }
   ],
   "source": [
    "if hour1>0 and hour1 <=12:\n",
    "    print(hour1)\n",
    "\n",
    "    print(\"good morning\")\n",
    "elif hour1>12 and hour1<19:\n",
    "    print(\"good afternon\")\n",
    "else:\n",
    "    print(\"good night\")"
   ]
  },
  {
   "cell_type": "code",
   "execution_count": 20,
   "id": "ff4f8c46-d602-4264-8272-c93ae80b86a0",
   "metadata": {},
   "outputs": [
    {
     "name": "stdout",
     "output_type": "stream",
     "text": [
      "The Zen of Python, by Tim Peters\n",
      "\n",
      "Beautiful is better than ugly.\n",
      "Explicit is better than implicit.\n",
      "Simple is better than complex.\n",
      "Complex is better than complicated.\n",
      "Flat is better than nested.\n",
      "Sparse is better than dense.\n",
      "Readability counts.\n",
      "Special cases aren't special enough to break the rules.\n",
      "Although practicality beats purity.\n",
      "Errors should never pass silently.\n",
      "Unless explicitly silenced.\n",
      "In the face of ambiguity, refuse the temptation to guess.\n",
      "There should be one-- and preferably only one --obvious way to do it.\n",
      "Although that way may not be obvious at first unless you're Dutch.\n",
      "Now is better than never.\n",
      "Although never is often better than *right* now.\n",
      "If the implementation is hard to explain, it's a bad idea.\n",
      "If the implementation is easy to explain, it may be a good idea.\n",
      "Namespaces are one honking great idea -- let's do more of those!\n"
     ]
    }
   ],
   "source": [
    "import this"
   ]
  },
  {
   "cell_type": "code",
   "execution_count": 22,
   "id": "d2dcf8c1-f247-4a79-9e4c-d3ac689e5d04",
   "metadata": {},
   "outputs": [],
   "source": [
    "def factorial(num):\n",
    "    for i in range(num):\n",
    "        print(i*i)\n",
    "        "
   ]
  },
  {
   "cell_type": "code",
   "execution_count": 23,
   "id": "dd49b4df-4fd2-4215-be90-d5d296769237",
   "metadata": {},
   "outputs": [
    {
     "name": "stdout",
     "output_type": "stream",
     "text": [
      "0\n",
      "1\n",
      "4\n",
      "9\n",
      "16\n"
     ]
    }
   ],
   "source": [
    "factorial(5)"
   ]
  },
  {
   "cell_type": "code",
   "execution_count": 28,
   "id": "c84cebd5-2dab-418a-a73a-faa4fe2350f6",
   "metadata": {},
   "outputs": [],
   "source": [
    "def factorial(num):\n",
    "    if num==0 or num==1:\n",
    "        return num\n",
    "    else:\n",
    "        return num*factorial(num-1)"
   ]
  },
  {
   "cell_type": "code",
   "execution_count": 29,
   "id": "0a629c64-2fae-4f97-876e-a2335c074a74",
   "metadata": {},
   "outputs": [
    {
     "data": {
      "text/plain": [
       "120"
      ]
     },
     "execution_count": 29,
     "metadata": {},
     "output_type": "execute_result"
    }
   ],
   "source": [
    "factorial(5)"
   ]
  },
  {
   "cell_type": "code",
   "execution_count": 8,
   "id": "c8119a5c-5139-4227-a993-066558b290f4",
   "metadata": {},
   "outputs": [],
   "source": [
    "def cro(num):\n",
    "    return num+num\n",
    "    \n",
    "    \n",
    "        \n",
    "        "
   ]
  },
  {
   "cell_type": "code",
   "execution_count": 13,
   "id": "d097f195-9890-42e1-bcc8-164b6edb5952",
   "metadata": {},
   "outputs": [
    {
     "data": {
      "text/plain": [
       "18"
      ]
     },
     "execution_count": 13,
     "metadata": {},
     "output_type": "execute_result"
    }
   ],
   "source": [
    "cro(9)"
   ]
  },
  {
   "cell_type": "code",
   "execution_count": 62,
   "id": "9bfce191-1a9a-43b2-bc0e-4ae6379a6ecd",
   "metadata": {},
   "outputs": [],
   "source": [
    "def ceo(num):\n",
    "    \n",
    "    \n",
    "        \n",
    "    "
   ]
  },
  {
   "cell_type": "code",
   "execution_count": 63,
   "id": "f56aa4d9-5a74-4334-8a69-f589bd9833b9",
   "metadata": {},
   "outputs": [
    {
     "ename": "RecursionError",
     "evalue": "maximum recursion depth exceeded",
     "output_type": "error",
     "traceback": [
      "\u001b[1;31m---------------------------------------------------------------------------\u001b[0m",
      "\u001b[1;31mRecursionError\u001b[0m                            Traceback (most recent call last)",
      "Cell \u001b[1;32mIn[63], line 1\u001b[0m\n\u001b[1;32m----> 1\u001b[0m ceo(\u001b[38;5;241m22\u001b[39m)\n",
      "Cell \u001b[1;32mIn[62], line 2\u001b[0m, in \u001b[0;36mceo\u001b[1;34m(num)\u001b[0m\n\u001b[0;32m      1\u001b[0m \u001b[38;5;28;01mdef\u001b[39;00m \u001b[38;5;21mceo\u001b[39m(num):\n\u001b[1;32m----> 2\u001b[0m     \u001b[38;5;28;01mreturn\u001b[39;00m num\u001b[38;5;241m+\u001b[39mceo(num\u001b[38;5;241m+\u001b[39m\u001b[38;5;241m1\u001b[39m)\n",
      "Cell \u001b[1;32mIn[62], line 2\u001b[0m, in \u001b[0;36mceo\u001b[1;34m(num)\u001b[0m\n\u001b[0;32m      1\u001b[0m \u001b[38;5;28;01mdef\u001b[39;00m \u001b[38;5;21mceo\u001b[39m(num):\n\u001b[1;32m----> 2\u001b[0m     \u001b[38;5;28;01mreturn\u001b[39;00m num\u001b[38;5;241m+\u001b[39mceo(num\u001b[38;5;241m+\u001b[39m\u001b[38;5;241m1\u001b[39m)\n",
      "    \u001b[1;31m[... skipping similar frames: ceo at line 2 (2970 times)]\u001b[0m\n",
      "Cell \u001b[1;32mIn[62], line 2\u001b[0m, in \u001b[0;36mceo\u001b[1;34m(num)\u001b[0m\n\u001b[0;32m      1\u001b[0m \u001b[38;5;28;01mdef\u001b[39;00m \u001b[38;5;21mceo\u001b[39m(num):\n\u001b[1;32m----> 2\u001b[0m     \u001b[38;5;28;01mreturn\u001b[39;00m num\u001b[38;5;241m+\u001b[39mceo(num\u001b[38;5;241m+\u001b[39m\u001b[38;5;241m1\u001b[39m)\n",
      "\u001b[1;31mRecursionError\u001b[0m: maximum recursion depth exceeded"
     ]
    }
   ],
   "source": [
    "ceo(22)"
   ]
  },
  {
   "cell_type": "code",
   "execution_count": 76,
   "id": "b2839373-f463-49b2-9bb3-f8e2fc97f06d",
   "metadata": {},
   "outputs": [
    {
     "name": "stdin",
     "output_type": "stream",
     "text": [
      "enter the number harrbbbbbbbbbbbbbbbbbbbbbbbbbb\n"
     ]
    },
    {
     "name": "stdout",
     "output_type": "stream",
     "text": [
      "invalid input\n"
     ]
    }
   ],
   "source": [
    "try:\n",
    "    a=int(input(\"enter the number\"))\n",
    "    b=a*7\n",
    "    print(b)\n",
    "except Exception as error:\n",
    "    print(\"invalid input\")\n",
    "\n",
    "       \n",
    "    \n",
    "    "
   ]
  },
  {
   "cell_type": "code",
   "execution_count": 81,
   "id": "fa146843-d6d7-4671-b305-62685833dee0",
   "metadata": {},
   "outputs": [
    {
     "name": "stdin",
     "output_type": "stream",
     "text": [
      "enter the number harry\n"
     ]
    },
    {
     "name": "stdout",
     "output_type": "stream",
     "text": [
      "invalid input\n"
     ]
    }
   ],
   "source": [
    "try:\n",
    "    a=int(input(\"enter the number\"))\n",
    "    b=a*7\n",
    "    print(b)\n",
    "except ValueError as error:\n",
    "    print(\"invalid input\")\n",
    "\n",
    "      "
   ]
  },
  {
   "cell_type": "code",
   "execution_count": 88,
   "id": "9aa1f55a-3724-48db-9ce9-e0744385616e",
   "metadata": {},
   "outputs": [],
   "source": [
    "def mul(num):\n",
    "    try:\n",
    "        return num*10\n",
    "    except:\n",
    "        print(\"erroe\")\n",
    "    finally:\n",
    "        print(\"i am always \")\n",
    "    "
   ]
  },
  {
   "cell_type": "code",
   "execution_count": 90,
   "id": "bb278494-d9d5-4fd9-9c06-2d3f160e117d",
   "metadata": {},
   "outputs": [
    {
     "name": "stdout",
     "output_type": "stream",
     "text": [
      "i am always \n"
     ]
    },
    {
     "data": {
      "text/plain": [
       "100"
      ]
     },
     "execution_count": 90,
     "metadata": {},
     "output_type": "execute_result"
    }
   ],
   "source": [
    "mul(10)"
   ]
  },
  {
   "cell_type": "code",
   "execution_count": 95,
   "id": "40191454-1981-408c-99e4-6ebcfa5e4d1b",
   "metadata": {},
   "outputs": [
    {
     "name": "stdin",
     "output_type": "stream",
     "text": [
      "enter the number 8 to 20 21\n"
     ]
    },
    {
     "ename": "ValueError",
     "evalue": "value is not defind",
     "output_type": "error",
     "traceback": [
      "\u001b[1;31m---------------------------------------------------------------------------\u001b[0m",
      "\u001b[1;31mValueError\u001b[0m                                Traceback (most recent call last)",
      "Cell \u001b[1;32mIn[95], line 3\u001b[0m\n\u001b[0;32m      1\u001b[0m a\u001b[38;5;241m=\u001b[39m\u001b[38;5;28mint\u001b[39m(\u001b[38;5;28minput\u001b[39m(\u001b[38;5;124m\"\u001b[39m\u001b[38;5;124menter the number 8 to 20\u001b[39m\u001b[38;5;124m\"\u001b[39m))\n\u001b[0;32m      2\u001b[0m \u001b[38;5;28;01mif\u001b[39;00m a\u001b[38;5;241m<\u001b[39m\u001b[38;5;241m7\u001b[39m \u001b[38;5;129;01mor\u001b[39;00m a\u001b[38;5;241m>\u001b[39m\u001b[38;5;241m20\u001b[39m:\n\u001b[1;32m----> 3\u001b[0m     \u001b[38;5;28;01mraise\u001b[39;00m \u001b[38;5;167;01mValueError\u001b[39;00m(\u001b[38;5;124m\"\u001b[39m\u001b[38;5;124mvalue is not defind\u001b[39m\u001b[38;5;124m\"\u001b[39m)\n",
      "\u001b[1;31mValueError\u001b[0m: value is not defind"
     ]
    }
   ],
   "source": [
    "a=int(input(\"enter the number 8 to 20\"))\n",
    "if a<7 or a>20:\n",
    "    raise ValueError(\"value is not defind\")"
   ]
  },
  {
   "cell_type": "code",
   "execution_count": 99,
   "id": "50c8b78d-151d-41e8-bc1c-9c143181cca6",
   "metadata": {},
   "outputs": [
    {
     "ename": "SyntaxError",
     "evalue": "unmatched ')' (4110729492.py, line 1)",
     "output_type": "error",
     "traceback": [
      "\u001b[1;36m  Cell \u001b[1;32mIn[99], line 1\u001b[1;36m\u001b[0m\n\u001b[1;33m    a=input(\"enter the number 8 to 20\"))\u001b[0m\n\u001b[1;37m                                       ^\u001b[0m\n\u001b[1;31mSyntaxError\u001b[0m\u001b[1;31m:\u001b[0m unmatched ')'\n"
     ]
    }
   ],
   "source": [
    "a=input(\"enter the number 8 to 20\"))\n",
    "\n",
    "if int(a)<7 or int(a)>20:\n",
    "    if a==\"quit\":\n",
    "        raise ValueError(\"value is not defind\")"
   ]
  },
  {
   "cell_type": "code",
   "execution_count": null,
   "id": "fe059f6a-6ff9-4dc2-aa25-fa030acb959b",
   "metadata": {},
   "outputs": [],
   "source": []
  }
 ],
 "metadata": {
  "kernelspec": {
   "display_name": "Python 3 (ipykernel)",
   "language": "python",
   "name": "python3"
  },
  "language_info": {
   "codemirror_mode": {
    "name": "ipython",
    "version": 3
   },
   "file_extension": ".py",
   "mimetype": "text/x-python",
   "name": "python",
   "nbconvert_exporter": "python",
   "pygments_lexer": "ipython3",
   "version": "3.11.7"
  }
 },
 "nbformat": 4,
 "nbformat_minor": 5
}
